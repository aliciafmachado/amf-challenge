{
  "nbformat": 4,
  "nbformat_minor": 0,
  "metadata": {
    "colab": {
      "name": "Cópia de Project-INF569.ipynb",
      "provenance": [],
      "collapsed_sections": [],
      "authorship_tag": "ABX9TyMD8ZIzXuEHq6S6t1gnrlP/",
      "include_colab_link": true
    },
    "kernelspec": {
      "name": "python3",
      "display_name": "Python 3"
    }
  },
  "cells": [
    {
      "cell_type": "markdown",
      "metadata": {
        "id": "view-in-github",
        "colab_type": "text"
      },
      "source": [
        "<a href=\"https://colab.research.google.com/github/aliciafmachado/amf-challenge/blob/main/Project_INF569.ipynb\" target=\"_parent\"><img src=\"https://colab.research.google.com/assets/colab-badge.svg\" alt=\"Open In Colab\"/></a>"
      ]
    },
    {
      "cell_type": "markdown",
      "metadata": {
        "id": "DK-VuxOh3PXF"
      },
      "source": [
        "# Who are the high-frequency traders ?\n",
        "### by Autorité des Marchés Financiers\n"
      ]
    },
    {
      "cell_type": "markdown",
      "metadata": {
        "id": "Ua9NKibmAypn"
      },
      "source": [
        "Alicia Fortes Machado & Iago Martinelli Lopes\n",
        "\n",
        "This notebook explore different techniques in order to classify the traders within three categories: HFT, non-HFT and MIX.\n",
        "\n",
        "The dataset has 35 variables explaining statistics for each set of market player, stock and specific trading date."
      ]
    },
    {
      "cell_type": "markdown",
      "metadata": {
        "id": "Ed_ft_nS2ddu"
      },
      "source": [
        "## Connect to Google Drive\n",
        "\n",
        "We connect to Google Drive if you chose this option.\n",
        "\n",
        "If not, you can jump this section."
      ]
    },
    {
      "cell_type": "code",
      "metadata": {
        "id": "G_tLj0okZ5Ym",
        "colab": {
          "base_uri": "https://localhost:8080/"
        },
        "outputId": "1679350d-24c9-4b53-ba97-da278322b3d9"
      },
      "source": [
        "# Import and save into google drive\n",
        "from google.colab import drive\n",
        "drive.mount('/content/drive')\n",
        "%cd 'drive/My Drive/MAP569/project'\n",
        "%ls"
      ],
      "execution_count": null,
      "outputs": [
        {
          "output_type": "stream",
          "text": [
            "Drive already mounted at /content/drive; to attempt to forcibly remount, call drive.mount(\"/content/drive\", force_remount=True).\n",
            "/content/drive/My Drive/MAP569/project\n",
            "\u001b[0m\u001b[01;34mdata\u001b[0m/\n"
          ],
          "name": "stdout"
        }
      ]
    },
    {
      "cell_type": "markdown",
      "metadata": {
        "id": "4Tn-TJ1u2dMM"
      },
      "source": [
        "## Import libraries\n",
        "\n",
        "We import all necessary libraries:"
      ]
    },
    {
      "cell_type": "code",
      "metadata": {
        "id": "tt8Em-b-sA0r"
      },
      "source": [
        "!pip install prince\n",
        "!pip install seaborn"
      ],
      "execution_count": null,
      "outputs": []
    },
    {
      "cell_type": "code",
      "metadata": {
        "id": "fbEFqcP9zZlC"
      },
      "source": [
        "import os\n",
        "import numpy as np\n",
        "import pandas as pd\n",
        "import matplotlib.pyplot as plt\n",
        "from prince import MFA\n",
        "import seaborn\n",
        "\n",
        "seaborn.set(style='ticks')"
      ],
      "execution_count": null,
      "outputs": []
    },
    {
      "cell_type": "markdown",
      "metadata": {
        "id": "3zsfl3kR3iHC"
      },
      "source": [
        "## Dataset\n",
        "\n",
        "We first open the dataset:"
      ]
    },
    {
      "cell_type": "code",
      "metadata": {
        "id": "8Geqbv-h3iQ-"
      },
      "source": [
        "# main path to our dataset\n",
        "data_path = \"data\"\n",
        "\n",
        "train_x_path = os.path.join(data_path, 'AMF_train_X_XCZw8r3.csv')\n",
        "train_y_path = os.path.join(data_path, 'AMF_train_Y_omYQJZL.csv')\n",
        "\n",
        "eval_path = os.path.join(data_path, 'AMF_test_X_uDs0jHH.csv')\n",
        "\n",
        "train_x_df = pd.read_csv(train_x_path, index_col='Index')\n",
        "train_y_df = pd.read_csv(train_y_path, index_col=None)\n",
        "\n",
        "eval_df = pd.read_csv(eval_path, index_col='Index')"
      ],
      "execution_count": null,
      "outputs": []
    },
    {
      "cell_type": "code",
      "metadata": {
        "colab": {
          "base_uri": "https://localhost:8080/",
          "height": 255
        },
        "id": "mo5BaidR6DOu",
        "outputId": "261b1689-969c-4890-ba48-5dbcda37ec97"
      },
      "source": [
        "train_x_df.head()"
      ],
      "execution_count": null,
      "outputs": [
        {
          "output_type": "execute_result",
          "data": {
            "text/html": [
              "<div>\n",
              "<style scoped>\n",
              "    .dataframe tbody tr th:only-of-type {\n",
              "        vertical-align: middle;\n",
              "    }\n",
              "\n",
              "    .dataframe tbody tr th {\n",
              "        vertical-align: top;\n",
              "    }\n",
              "\n",
              "    .dataframe thead th {\n",
              "        text-align: right;\n",
              "    }\n",
              "</style>\n",
              "<table border=\"1\" class=\"dataframe\">\n",
              "  <thead>\n",
              "    <tr style=\"text-align: right;\">\n",
              "      <th></th>\n",
              "      <th>Share</th>\n",
              "      <th>Day</th>\n",
              "      <th>Trader</th>\n",
              "      <th>OTR</th>\n",
              "      <th>OCR</th>\n",
              "      <th>OMR</th>\n",
              "      <th>min_time_two_events</th>\n",
              "      <th>mean_time_two_events</th>\n",
              "      <th>10_p_time_two_events</th>\n",
              "      <th>med_time_two_events</th>\n",
              "      <th>25_p_time_two_events</th>\n",
              "      <th>75_p_time_two_events</th>\n",
              "      <th>90_p_time_two_events</th>\n",
              "      <th>max_time_two_events</th>\n",
              "      <th>min_lifetime_cancel</th>\n",
              "      <th>mean_lifetime_cancel</th>\n",
              "      <th>10_p_lifetime_cancel</th>\n",
              "      <th>med_lifetime_cancel</th>\n",
              "      <th>25_p_lifetime_cancel</th>\n",
              "      <th>75_p_lifetime_cancel</th>\n",
              "      <th>90_p_lifetime_cancel</th>\n",
              "      <th>max_lifetime_cancel</th>\n",
              "      <th>NbTradeVenueMic</th>\n",
              "      <th>MaxNbTradesBySecond</th>\n",
              "      <th>MeanNbTradesBySecond</th>\n",
              "      <th>min_dt_TV1</th>\n",
              "      <th>mean_dt_TV1</th>\n",
              "      <th>med_dt_TV1</th>\n",
              "      <th>min_dt_TV1_TV2</th>\n",
              "      <th>mean_dt_TV1_TV2</th>\n",
              "      <th>med_dt_TV1_TV2</th>\n",
              "      <th>min_dt_TV1_TV3</th>\n",
              "      <th>mean_dt_TV1_TV3</th>\n",
              "      <th>med_dt_TV1_TV3</th>\n",
              "      <th>min_dt_TV1_TV4</th>\n",
              "      <th>mean_dt_TV1_TV4</th>\n",
              "      <th>med_dt_TV1_TV4</th>\n",
              "      <th>NbSecondWithAtLeatOneTrade</th>\n",
              "    </tr>\n",
              "    <tr>\n",
              "      <th>Index</th>\n",
              "      <th></th>\n",
              "      <th></th>\n",
              "      <th></th>\n",
              "      <th></th>\n",
              "      <th></th>\n",
              "      <th></th>\n",
              "      <th></th>\n",
              "      <th></th>\n",
              "      <th></th>\n",
              "      <th></th>\n",
              "      <th></th>\n",
              "      <th></th>\n",
              "      <th></th>\n",
              "      <th></th>\n",
              "      <th></th>\n",
              "      <th></th>\n",
              "      <th></th>\n",
              "      <th></th>\n",
              "      <th></th>\n",
              "      <th></th>\n",
              "      <th></th>\n",
              "      <th></th>\n",
              "      <th></th>\n",
              "      <th></th>\n",
              "      <th></th>\n",
              "      <th></th>\n",
              "      <th></th>\n",
              "      <th></th>\n",
              "      <th></th>\n",
              "      <th></th>\n",
              "      <th></th>\n",
              "      <th></th>\n",
              "      <th></th>\n",
              "      <th></th>\n",
              "      <th></th>\n",
              "      <th></th>\n",
              "      <th></th>\n",
              "      <th></th>\n",
              "    </tr>\n",
              "  </thead>\n",
              "  <tbody>\n",
              "    <tr>\n",
              "      <th>1</th>\n",
              "      <td>Isin_8</td>\n",
              "      <td>Date_24</td>\n",
              "      <td>Trader_10</td>\n",
              "      <td>2.272727</td>\n",
              "      <td>8.333333</td>\n",
              "      <td>12.500000</td>\n",
              "      <td>0.0</td>\n",
              "      <td>5117.830300</td>\n",
              "      <td>0.000000</td>\n",
              "      <td>419.688500</td>\n",
              "      <td>10.722543</td>\n",
              "      <td>984.320560</td>\n",
              "      <td>23151.83800</td>\n",
              "      <td>25139.598</td>\n",
              "      <td>682.153260</td>\n",
              "      <td>8272.770569</td>\n",
              "      <td>682.153260</td>\n",
              "      <td>984.32056</td>\n",
              "      <td>682.15326</td>\n",
              "      <td>23151.83800</td>\n",
              "      <td>23151.8380</td>\n",
              "      <td>23151.838</td>\n",
              "      <td>1</td>\n",
              "      <td>7</td>\n",
              "      <td>2.750000</td>\n",
              "      <td>351.702399</td>\n",
              "      <td>9639.216031</td>\n",
              "      <td>1585.079495</td>\n",
              "      <td>NaN</td>\n",
              "      <td>NaN</td>\n",
              "      <td>NaN</td>\n",
              "      <td>NaN</td>\n",
              "      <td>NaN</td>\n",
              "      <td>NaN</td>\n",
              "      <td>NaN</td>\n",
              "      <td>NaN</td>\n",
              "      <td>NaN</td>\n",
              "      <td>4</td>\n",
              "    </tr>\n",
              "    <tr>\n",
              "      <th>2</th>\n",
              "      <td>Isin_87</td>\n",
              "      <td>Date_29</td>\n",
              "      <td>Trader_10</td>\n",
              "      <td>1.696629</td>\n",
              "      <td>25.166667</td>\n",
              "      <td>21.571429</td>\n",
              "      <td>0.0</td>\n",
              "      <td>1846.968401</td>\n",
              "      <td>0.000074</td>\n",
              "      <td>0.003374</td>\n",
              "      <td>0.000204</td>\n",
              "      <td>8.768699</td>\n",
              "      <td>2671.48830</td>\n",
              "      <td>31278.357</td>\n",
              "      <td>11.866026</td>\n",
              "      <td>3796.632686</td>\n",
              "      <td>11.866026</td>\n",
              "      <td>177.93991</td>\n",
              "      <td>73.74323</td>\n",
              "      <td>808.26230</td>\n",
              "      <td>21433.6840</td>\n",
              "      <td>21433.684</td>\n",
              "      <td>1</td>\n",
              "      <td>17</td>\n",
              "      <td>5.933333</td>\n",
              "      <td>0.000066</td>\n",
              "      <td>493.559196</td>\n",
              "      <td>0.000901</td>\n",
              "      <td>NaN</td>\n",
              "      <td>NaN</td>\n",
              "      <td>NaN</td>\n",
              "      <td>NaN</td>\n",
              "      <td>NaN</td>\n",
              "      <td>NaN</td>\n",
              "      <td>NaN</td>\n",
              "      <td>NaN</td>\n",
              "      <td>NaN</td>\n",
              "      <td>15</td>\n",
              "    </tr>\n",
              "    <tr>\n",
              "      <th>3</th>\n",
              "      <td>Isin_87</td>\n",
              "      <td>Date_23</td>\n",
              "      <td>Trader_10</td>\n",
              "      <td>1.482759</td>\n",
              "      <td>47.300000</td>\n",
              "      <td>118.250000</td>\n",
              "      <td>0.0</td>\n",
              "      <td>686.300630</td>\n",
              "      <td>0.000071</td>\n",
              "      <td>0.000599</td>\n",
              "      <td>0.000129</td>\n",
              "      <td>5.725427</td>\n",
              "      <td>448.88360</td>\n",
              "      <td>30799.467</td>\n",
              "      <td>2.761036</td>\n",
              "      <td>1397.103679</td>\n",
              "      <td>2.761036</td>\n",
              "      <td>187.99548</td>\n",
              "      <td>19.77734</td>\n",
              "      <td>418.23984</td>\n",
              "      <td>1953.6235</td>\n",
              "      <td>10842.464</td>\n",
              "      <td>1</td>\n",
              "      <td>20</td>\n",
              "      <td>5.063492</td>\n",
              "      <td>0.000018</td>\n",
              "      <td>163.954785</td>\n",
              "      <td>0.000770</td>\n",
              "      <td>NaN</td>\n",
              "      <td>NaN</td>\n",
              "      <td>NaN</td>\n",
              "      <td>NaN</td>\n",
              "      <td>NaN</td>\n",
              "      <td>NaN</td>\n",
              "      <td>NaN</td>\n",
              "      <td>NaN</td>\n",
              "      <td>NaN</td>\n",
              "      <td>63</td>\n",
              "    </tr>\n",
              "    <tr>\n",
              "      <th>4</th>\n",
              "      <td>Isin_12</td>\n",
              "      <td>Date_11</td>\n",
              "      <td>Trader_10</td>\n",
              "      <td>1.705882</td>\n",
              "      <td>14.500000</td>\n",
              "      <td>29.000000</td>\n",
              "      <td>0.0</td>\n",
              "      <td>2174.335265</td>\n",
              "      <td>0.000000</td>\n",
              "      <td>6.152666</td>\n",
              "      <td>0.000945</td>\n",
              "      <td>62.444176</td>\n",
              "      <td>19187.71900</td>\n",
              "      <td>19187.719</td>\n",
              "      <td>286.019320</td>\n",
              "      <td>9736.869034</td>\n",
              "      <td>286.019320</td>\n",
              "      <td>286.01932</td>\n",
              "      <td>286.01932</td>\n",
              "      <td>19187.71900</td>\n",
              "      <td>19187.7190</td>\n",
              "      <td>19187.719</td>\n",
              "      <td>1</td>\n",
              "      <td>8</td>\n",
              "      <td>4.250000</td>\n",
              "      <td>0.000148</td>\n",
              "      <td>1232.562133</td>\n",
              "      <td>0.004301</td>\n",
              "      <td>NaN</td>\n",
              "      <td>NaN</td>\n",
              "      <td>NaN</td>\n",
              "      <td>NaN</td>\n",
              "      <td>NaN</td>\n",
              "      <td>NaN</td>\n",
              "      <td>NaN</td>\n",
              "      <td>NaN</td>\n",
              "      <td>NaN</td>\n",
              "      <td>4</td>\n",
              "    </tr>\n",
              "    <tr>\n",
              "      <th>5</th>\n",
              "      <td>Isin_87</td>\n",
              "      <td>Date_9</td>\n",
              "      <td>Trader_10</td>\n",
              "      <td>1.517730</td>\n",
              "      <td>26.750000</td>\n",
              "      <td>NaN</td>\n",
              "      <td>0.0</td>\n",
              "      <td>944.008551</td>\n",
              "      <td>0.000071</td>\n",
              "      <td>0.001364</td>\n",
              "      <td>0.000146</td>\n",
              "      <td>2.225420</td>\n",
              "      <td>273.45676</td>\n",
              "      <td>23164.514</td>\n",
              "      <td>2.798452</td>\n",
              "      <td>10066.803992</td>\n",
              "      <td>2.798452</td>\n",
              "      <td>1345.95280</td>\n",
              "      <td>662.57434</td>\n",
              "      <td>21903.78300</td>\n",
              "      <td>23164.5140</td>\n",
              "      <td>23164.514</td>\n",
              "      <td>1</td>\n",
              "      <td>19</td>\n",
              "      <td>3.710526</td>\n",
              "      <td>0.000025</td>\n",
              "      <td>248.073927</td>\n",
              "      <td>0.001364</td>\n",
              "      <td>NaN</td>\n",
              "      <td>NaN</td>\n",
              "      <td>NaN</td>\n",
              "      <td>NaN</td>\n",
              "      <td>NaN</td>\n",
              "      <td>NaN</td>\n",
              "      <td>NaN</td>\n",
              "      <td>NaN</td>\n",
              "      <td>NaN</td>\n",
              "      <td>38</td>\n",
              "    </tr>\n",
              "  </tbody>\n",
              "</table>\n",
              "</div>"
            ],
            "text/plain": [
              "         Share      Day  ... med_dt_TV1_TV4  NbSecondWithAtLeatOneTrade\n",
              "Index                    ...                                           \n",
              "1       Isin_8  Date_24  ...            NaN                           4\n",
              "2      Isin_87  Date_29  ...            NaN                          15\n",
              "3      Isin_87  Date_23  ...            NaN                          63\n",
              "4      Isin_12  Date_11  ...            NaN                           4\n",
              "5      Isin_87   Date_9  ...            NaN                          38\n",
              "\n",
              "[5 rows x 38 columns]"
            ]
          },
          "metadata": {
            "tags": []
          },
          "execution_count": 11
        }
      ]
    },
    {
      "cell_type": "code",
      "metadata": {
        "colab": {
          "base_uri": "https://localhost:8080/",
          "height": 317
        },
        "id": "tDAJDaCG90pd",
        "outputId": "0cae9bbd-b7f4-4c6e-ef0a-bb77bb3849b7"
      },
      "source": [
        "train_x_df.describe()"
      ],
      "execution_count": null,
      "outputs": [
        {
          "output_type": "execute_result",
          "data": {
            "text/html": [
              "<div>\n",
              "<style scoped>\n",
              "    .dataframe tbody tr th:only-of-type {\n",
              "        vertical-align: middle;\n",
              "    }\n",
              "\n",
              "    .dataframe tbody tr th {\n",
              "        vertical-align: top;\n",
              "    }\n",
              "\n",
              "    .dataframe thead th {\n",
              "        text-align: right;\n",
              "    }\n",
              "</style>\n",
              "<table border=\"1\" class=\"dataframe\">\n",
              "  <thead>\n",
              "    <tr style=\"text-align: right;\">\n",
              "      <th></th>\n",
              "      <th>OTR</th>\n",
              "      <th>OCR</th>\n",
              "      <th>OMR</th>\n",
              "      <th>min_time_two_events</th>\n",
              "      <th>mean_time_two_events</th>\n",
              "      <th>10_p_time_two_events</th>\n",
              "      <th>med_time_two_events</th>\n",
              "      <th>25_p_time_two_events</th>\n",
              "      <th>75_p_time_two_events</th>\n",
              "      <th>90_p_time_two_events</th>\n",
              "      <th>max_time_two_events</th>\n",
              "      <th>min_lifetime_cancel</th>\n",
              "      <th>mean_lifetime_cancel</th>\n",
              "      <th>10_p_lifetime_cancel</th>\n",
              "      <th>med_lifetime_cancel</th>\n",
              "      <th>25_p_lifetime_cancel</th>\n",
              "      <th>75_p_lifetime_cancel</th>\n",
              "      <th>90_p_lifetime_cancel</th>\n",
              "      <th>max_lifetime_cancel</th>\n",
              "      <th>NbTradeVenueMic</th>\n",
              "      <th>MaxNbTradesBySecond</th>\n",
              "      <th>MeanNbTradesBySecond</th>\n",
              "      <th>min_dt_TV1</th>\n",
              "      <th>mean_dt_TV1</th>\n",
              "      <th>med_dt_TV1</th>\n",
              "      <th>min_dt_TV1_TV2</th>\n",
              "      <th>mean_dt_TV1_TV2</th>\n",
              "      <th>med_dt_TV1_TV2</th>\n",
              "      <th>min_dt_TV1_TV3</th>\n",
              "      <th>mean_dt_TV1_TV3</th>\n",
              "      <th>med_dt_TV1_TV3</th>\n",
              "      <th>min_dt_TV1_TV4</th>\n",
              "      <th>mean_dt_TV1_TV4</th>\n",
              "      <th>med_dt_TV1_TV4</th>\n",
              "      <th>NbSecondWithAtLeatOneTrade</th>\n",
              "    </tr>\n",
              "  </thead>\n",
              "  <tbody>\n",
              "    <tr>\n",
              "      <th>count</th>\n",
              "      <td>104099.000000</td>\n",
              "      <td>105782.000000</td>\n",
              "      <td>58170.000000</td>\n",
              "      <td>105782.000000</td>\n",
              "      <td>105782.000000</td>\n",
              "      <td>105782.000000</td>\n",
              "      <td>105782.000000</td>\n",
              "      <td>105782.000000</td>\n",
              "      <td>105782.000000</td>\n",
              "      <td>105782.000000</td>\n",
              "      <td>105782.000000</td>\n",
              "      <td>105782.000000</td>\n",
              "      <td>105782.000000</td>\n",
              "      <td>105782.000000</td>\n",
              "      <td>105782.000000</td>\n",
              "      <td>105782.000000</td>\n",
              "      <td>105782.000000</td>\n",
              "      <td>105782.000000</td>\n",
              "      <td>105782.000000</td>\n",
              "      <td>105782.000000</td>\n",
              "      <td>105782.000000</td>\n",
              "      <td>105782.000000</td>\n",
              "      <td>101547.000000</td>\n",
              "      <td>101547.000000</td>\n",
              "      <td>101547.000000</td>\n",
              "      <td>80606.000000</td>\n",
              "      <td>80606.000000</td>\n",
              "      <td>80606.000000</td>\n",
              "      <td>80527.000000</td>\n",
              "      <td>80527.000000</td>\n",
              "      <td>80527.000000</td>\n",
              "      <td>80634.000000</td>\n",
              "      <td>80634.000000</td>\n",
              "      <td>80634.000000</td>\n",
              "      <td>105782.000000</td>\n",
              "    </tr>\n",
              "    <tr>\n",
              "      <th>mean</th>\n",
              "      <td>34.435038</td>\n",
              "      <td>17.458787</td>\n",
              "      <td>164.469153</td>\n",
              "      <td>87.472164</td>\n",
              "      <td>2772.513578</td>\n",
              "      <td>103.310102</td>\n",
              "      <td>1011.630575</td>\n",
              "      <td>228.659560</td>\n",
              "      <td>4734.942457</td>\n",
              "      <td>9786.032539</td>\n",
              "      <td>24292.035085</td>\n",
              "      <td>1945.038027</td>\n",
              "      <td>5616.519744</td>\n",
              "      <td>2070.233540</td>\n",
              "      <td>4445.109364</td>\n",
              "      <td>2707.080480</td>\n",
              "      <td>8451.108964</td>\n",
              "      <td>11587.949910</td>\n",
              "      <td>19980.278762</td>\n",
              "      <td>5.563896</td>\n",
              "      <td>25.249324</td>\n",
              "      <td>2.093446</td>\n",
              "      <td>438.447418</td>\n",
              "      <td>1082.427774</td>\n",
              "      <td>651.743386</td>\n",
              "      <td>297.616104</td>\n",
              "      <td>598.637740</td>\n",
              "      <td>389.411017</td>\n",
              "      <td>310.498829</td>\n",
              "      <td>605.733603</td>\n",
              "      <td>401.594794</td>\n",
              "      <td>309.912605</td>\n",
              "      <td>615.154194</td>\n",
              "      <td>402.749527</td>\n",
              "      <td>334.034070</td>\n",
              "    </tr>\n",
              "    <tr>\n",
              "      <th>std</th>\n",
              "      <td>137.261154</td>\n",
              "      <td>71.843225</td>\n",
              "      <td>929.010848</td>\n",
              "      <td>1549.972501</td>\n",
              "      <td>4985.149536</td>\n",
              "      <td>1617.051421</td>\n",
              "      <td>4967.426924</td>\n",
              "      <td>2319.866837</td>\n",
              "      <td>10431.964706</td>\n",
              "      <td>14256.357615</td>\n",
              "      <td>17772.438572</td>\n",
              "      <td>6672.112738</td>\n",
              "      <td>9140.189971</td>\n",
              "      <td>6809.714060</td>\n",
              "      <td>9372.947978</td>\n",
              "      <td>7531.875480</td>\n",
              "      <td>13270.509124</td>\n",
              "      <td>15667.418368</td>\n",
              "      <td>17654.559859</td>\n",
              "      <td>4.385260</td>\n",
              "      <td>35.264111</td>\n",
              "      <td>1.417188</td>\n",
              "      <td>2876.755745</td>\n",
              "      <td>3187.357171</td>\n",
              "      <td>2931.984342</td>\n",
              "      <td>1882.353978</td>\n",
              "      <td>2010.296401</td>\n",
              "      <td>1896.835552</td>\n",
              "      <td>1922.648030</td>\n",
              "      <td>2031.797111</td>\n",
              "      <td>1933.073024</td>\n",
              "      <td>1910.028651</td>\n",
              "      <td>2037.041672</td>\n",
              "      <td>1923.023720</td>\n",
              "      <td>644.816702</td>\n",
              "    </tr>\n",
              "    <tr>\n",
              "      <th>min</th>\n",
              "      <td>1.044444</td>\n",
              "      <td>2.000000</td>\n",
              "      <td>1.001960</td>\n",
              "      <td>0.000000</td>\n",
              "      <td>0.000065</td>\n",
              "      <td>0.000000</td>\n",
              "      <td>0.000000</td>\n",
              "      <td>0.000000</td>\n",
              "      <td>0.000000</td>\n",
              "      <td>0.000000</td>\n",
              "      <td>0.000065</td>\n",
              "      <td>0.000007</td>\n",
              "      <td>0.000038</td>\n",
              "      <td>0.000016</td>\n",
              "      <td>0.000035</td>\n",
              "      <td>0.000028</td>\n",
              "      <td>0.000038</td>\n",
              "      <td>0.000038</td>\n",
              "      <td>0.000038</td>\n",
              "      <td>1.000000</td>\n",
              "      <td>1.000000</td>\n",
              "      <td>1.000000</td>\n",
              "      <td>0.000001</td>\n",
              "      <td>0.000001</td>\n",
              "      <td>0.000001</td>\n",
              "      <td>0.000001</td>\n",
              "      <td>0.000002</td>\n",
              "      <td>0.000001</td>\n",
              "      <td>0.000001</td>\n",
              "      <td>0.000003</td>\n",
              "      <td>0.000002</td>\n",
              "      <td>0.000001</td>\n",
              "      <td>0.000008</td>\n",
              "      <td>0.000003</td>\n",
              "      <td>1.000000</td>\n",
              "    </tr>\n",
              "    <tr>\n",
              "      <th>25%</th>\n",
              "      <td>3.709023</td>\n",
              "      <td>2.753802</td>\n",
              "      <td>3.253655</td>\n",
              "      <td>0.000000</td>\n",
              "      <td>69.365666</td>\n",
              "      <td>0.000000</td>\n",
              "      <td>1.243868</td>\n",
              "      <td>0.000024</td>\n",
              "      <td>22.249021</td>\n",
              "      <td>117.771340</td>\n",
              "      <td>4410.907350</td>\n",
              "      <td>0.000583</td>\n",
              "      <td>67.897392</td>\n",
              "      <td>0.043414</td>\n",
              "      <td>6.234451</td>\n",
              "      <td>0.746623</td>\n",
              "      <td>30.724017</td>\n",
              "      <td>109.431107</td>\n",
              "      <td>1902.260450</td>\n",
              "      <td>2.000000</td>\n",
              "      <td>6.000000</td>\n",
              "      <td>1.500000</td>\n",
              "      <td>0.000007</td>\n",
              "      <td>50.921032</td>\n",
              "      <td>4.915512</td>\n",
              "      <td>0.000005</td>\n",
              "      <td>33.819189</td>\n",
              "      <td>2.533583</td>\n",
              "      <td>0.000006</td>\n",
              "      <td>32.699571</td>\n",
              "      <td>2.305276</td>\n",
              "      <td>0.000020</td>\n",
              "      <td>33.713187</td>\n",
              "      <td>2.639113</td>\n",
              "      <td>24.000000</td>\n",
              "    </tr>\n",
              "    <tr>\n",
              "      <th>50%</th>\n",
              "      <td>7.346154</td>\n",
              "      <td>4.789474</td>\n",
              "      <td>14.000000</td>\n",
              "      <td>0.000000</td>\n",
              "      <td>262.325253</td>\n",
              "      <td>0.000109</td>\n",
              "      <td>10.154920</td>\n",
              "      <td>0.093957</td>\n",
              "      <td>114.957445</td>\n",
              "      <td>480.715195</td>\n",
              "      <td>30166.389500</td>\n",
              "      <td>0.044144</td>\n",
              "      <td>272.333702</td>\n",
              "      <td>1.663752</td>\n",
              "      <td>35.734245</td>\n",
              "      <td>8.251923</td>\n",
              "      <td>182.259375</td>\n",
              "      <td>596.792220</td>\n",
              "      <td>17972.680000</td>\n",
              "      <td>5.000000</td>\n",
              "      <td>14.000000</td>\n",
              "      <td>1.880000</td>\n",
              "      <td>0.000091</td>\n",
              "      <td>183.022816</td>\n",
              "      <td>36.457000</td>\n",
              "      <td>0.000232</td>\n",
              "      <td>110.427370</td>\n",
              "      <td>22.413161</td>\n",
              "      <td>0.000260</td>\n",
              "      <td>111.633327</td>\n",
              "      <td>23.665962</td>\n",
              "      <td>0.000270</td>\n",
              "      <td>113.158721</td>\n",
              "      <td>23.435835</td>\n",
              "      <td>97.000000</td>\n",
              "    </tr>\n",
              "    <tr>\n",
              "      <th>75%</th>\n",
              "      <td>22.707956</td>\n",
              "      <td>16.366667</td>\n",
              "      <td>73.689116</td>\n",
              "      <td>0.000000</td>\n",
              "      <td>3801.273320</td>\n",
              "      <td>0.020739</td>\n",
              "      <td>60.552090</td>\n",
              "      <td>2.836749</td>\n",
              "      <td>2277.450350</td>\n",
              "      <td>20975.263250</td>\n",
              "      <td>37485.990000</td>\n",
              "      <td>35.497842</td>\n",
              "      <td>9185.177948</td>\n",
              "      <td>69.218030</td>\n",
              "      <td>2075.455025</td>\n",
              "      <td>254.888130</td>\n",
              "      <td>16302.060250</td>\n",
              "      <td>23952.383000</td>\n",
              "      <td>35716.844000</td>\n",
              "      <td>8.000000</td>\n",
              "      <td>30.000000</td>\n",
              "      <td>2.313703</td>\n",
              "      <td>0.001000</td>\n",
              "      <td>714.761762</td>\n",
              "      <td>227.236491</td>\n",
              "      <td>0.008000</td>\n",
              "      <td>367.974973</td>\n",
              "      <td>121.244211</td>\n",
              "      <td>0.051880</td>\n",
              "      <td>376.874393</td>\n",
              "      <td>127.408500</td>\n",
              "      <td>0.059669</td>\n",
              "      <td>380.865913</td>\n",
              "      <td>128.108940</td>\n",
              "      <td>342.000000</td>\n",
              "    </tr>\n",
              "    <tr>\n",
              "      <th>max</th>\n",
              "      <td>17561.000000</td>\n",
              "      <td>14409.000000</td>\n",
              "      <td>127861.000000</td>\n",
              "      <td>52568.766000</td>\n",
              "      <td>52568.765625</td>\n",
              "      <td>52568.766000</td>\n",
              "      <td>52568.766000</td>\n",
              "      <td>52568.766000</td>\n",
              "      <td>60597.414000</td>\n",
              "      <td>60609.660000</td>\n",
              "      <td>71934.490000</td>\n",
              "      <td>53171.766000</td>\n",
              "      <td>53171.765625</td>\n",
              "      <td>53171.766000</td>\n",
              "      <td>53171.766000</td>\n",
              "      <td>53171.766000</td>\n",
              "      <td>53646.010000</td>\n",
              "      <td>53909.210000</td>\n",
              "      <td>53909.210000</td>\n",
              "      <td>24.000000</td>\n",
              "      <td>909.000000</td>\n",
              "      <td>63.000000</td>\n",
              "      <td>30929.771000</td>\n",
              "      <td>30929.771000</td>\n",
              "      <td>30929.771000</td>\n",
              "      <td>30904.835000</td>\n",
              "      <td>30904.835000</td>\n",
              "      <td>30904.835000</td>\n",
              "      <td>30904.835000</td>\n",
              "      <td>30904.835000</td>\n",
              "      <td>30904.835000</td>\n",
              "      <td>30904.835000</td>\n",
              "      <td>30904.835000</td>\n",
              "      <td>30904.835000</td>\n",
              "      <td>12966.000000</td>\n",
              "    </tr>\n",
              "  </tbody>\n",
              "</table>\n",
              "</div>"
            ],
            "text/plain": [
              "                 OTR            OCR  ...  med_dt_TV1_TV4  NbSecondWithAtLeatOneTrade\n",
              "count  104099.000000  105782.000000  ...    80634.000000               105782.000000\n",
              "mean       34.435038      17.458787  ...      402.749527                  334.034070\n",
              "std       137.261154      71.843225  ...     1923.023720                  644.816702\n",
              "min         1.044444       2.000000  ...        0.000003                    1.000000\n",
              "25%         3.709023       2.753802  ...        2.639113                   24.000000\n",
              "50%         7.346154       4.789474  ...       23.435835                   97.000000\n",
              "75%        22.707956      16.366667  ...      128.108940                  342.000000\n",
              "max     17561.000000   14409.000000  ...    30904.835000                12966.000000\n",
              "\n",
              "[8 rows x 35 columns]"
            ]
          },
          "metadata": {
            "tags": []
          },
          "execution_count": 12
        }
      ]
    },
    {
      "cell_type": "markdown",
      "metadata": {
        "id": "M7jOmxMk35KX"
      },
      "source": [
        "Then, we transform the date and the stock identification code to integers:"
      ]
    },
    {
      "cell_type": "markdown",
      "metadata": {
        "id": "ZIPy7FG53iZW"
      },
      "source": [
        "## Visualization\n",
        "\n",
        "We plot how many operations were done in each day of the month. We also show the proportion of which were from HFT, NON HFT, MIX:"
      ]
    },
    {
      "cell_type": "markdown",
      "metadata": {
        "id": "iNUAPzMTCQW8"
      },
      "source": [
        "Now, we create a trader id, in order to join both X and y and also so that we can have visualizations more easily."
      ]
    },
    {
      "cell_type": "code",
      "metadata": {
        "colab": {
          "base_uri": "https://localhost:8080/",
          "height": 265
        },
        "id": "X36N9OeB3igP",
        "outputId": "d7809cbc-52f1-4b5c-de56-bcaaf94bbfef"
      },
      "source": [
        "# TODO: how to unify data from y and X\n",
        "train_x['Day'].hist()\n",
        "plt.show()"
      ],
      "execution_count": null,
      "outputs": [
        {
          "output_type": "display_data",
          "data": {
            "image/png": "[encoded data removed]",
            "text/plain": [
              "<Figure size 432x288 with 1 Axes>"
            ]
          },
          "metadata": {
            "tags": [],
            "needs_background": "light"
          }
        }
      ]
    },
    {
      "cell_type": "markdown",
      "metadata": {
        "id": "yJ1pfME3B7ZH"
      },
      "source": [
        "We do the same for the shares:"
      ]
    },
    {
      "cell_type": "code",
      "metadata": {
        "colab": {
          "base_uri": "https://localhost:8080/",
          "height": 265
        },
        "id": "Bc3CX2m6BdpP",
        "outputId": "0313ec8e-46c2-42e0-850e-a9141581fd7d"
      },
      "source": [
        "train_x['Share'].hist()\n",
        "plt.show()"
      ],
      "execution_count": null,
      "outputs": [
        {
          "output_type": "display_data",
          "data": {
            "image/png": "[encoded data removed]",
            "text/plain": [
              "<Figure size 432x288 with 1 Axes>"
            ]
          },
          "metadata": {
            "tags": [],
            "needs_background": "light"
          }
        }
      ]
    },
    {
      "cell_type": "markdown",
      "metadata": {
        "id": "MXypJk1C3Hax"
      },
      "source": [
        "## Preprocessing and Unsupervised Learning\n",
        "\n",
        "### MFA and PCA\n",
        "\n",
        "We apply unsupervised learning techniques to detect the parameters that are relevant to predict the right category. We use MFA since we have both categorical and continuous variables. This technique joins a PCA and a MCA, methods that are used for continuous and categorical variables, respectively. We will also apply a PCA to our dataset by dummifying the categorical variables. The problem of the last approach is that we have too many different labels for Share, Trader and Day. Thus, it might not be very effective (we only have 35 continuous variables). One option is to change them to continuous values but it is not a good practice.\n",
        "\n",
        "TODO: DO WE TRY THIS LAST OPTION?\n",
        "\n",
        "We also accept None as method, and then we only dummify the categorical labels."
      ]
    },
    {
      "cell_type": "code",
      "metadata": {
        "id": "CZG96yV-3JY6"
      },
      "source": [
        "def preprocess(raw_data, reduction_method=None, n_components=30, dummify=False):\n",
        "  # We select the categorical columns:\n",
        "  traders = raw_data[['Trader']]\n",
        "  X = raw_data.drop(columns=['Index', 'Trader'])\n",
        "  cat_columns = ['Share', 'Day']\n",
        "\n",
        "  cat = X[cat_columns]\n",
        "  num = X.drop(columns=cat_columns)\n",
        "\n",
        "  # We need to normalize the numerical columns\n",
        "  num = (num - num.mean()) / num.std()\n",
        "\n",
        "  # TODO: Fill NA -> Should we do it like this?\n",
        "  num = num.fillna(num.mean())\n",
        "\n",
        "  if reduction_method == 'MFA':\n",
        "\n",
        "    X = pd.concat([num, cat], axis=1)\n",
        "    groups = {\n",
        "        'cat': cat_columns\n",
        "    }\n",
        "\n",
        "    # TODO: recheck n_iter\n",
        "    transform = MFA(groups=groups, n_components=n_components, n_iter=1000)\n",
        "    X = transform.fit_transform(X)\n",
        "\n",
        "  else if (reduction_method == 'PCA' or\n",
        "    reduction_method == None):\n",
        "    if not dummify:\n",
        "      # Transform not continuous variables to \n",
        "      cat['Day'] = cat.Day.str.extract('(\\d+)').astype(int)\n",
        "      cat['Share'] = cat.Share.str.extract('(\\d+)').astype(int)\n",
        "    else:\n",
        "      cat = pd.get_dummies(cat).astype(int)\n",
        "\n",
        "    # We need to normalize all columns\n",
        "    cat = (cat - cat.mean()) / cat.std()\n",
        "\n",
        "    # Concatenate X\n",
        "    X = pd.concat([num, cat], axis=1)\n",
        "\n",
        "    if reduction_method == 'PCA':\n",
        "      transform = PCA(n_components=n_components)\n",
        "      X = transform.fit_transform(X)\n",
        "\n",
        "  else:\n",
        "    raise ValueError('Invalid reduction method: {:}. Please use MFA, PCA or None.'\n",
        "    .format(reduction_method))\n",
        "\n",
        "  X = pd.concat([traders, X])\n",
        "  return X"
      ],
      "execution_count": null,
      "outputs": []
    },
    {
      "cell_type": "code",
      "metadata": {
        "id": "i0dsAPxGqz61"
      },
      "source": [
        "# Visualization of the PCA and MFA\n",
        "\n",
        "def plot_embedding_space(X_emb, Y):\n",
        "  #X_total = pd.concat(X_emb, Y)\n",
        "  # Join both of them correctly\n",
        "  # TODO: end this function\n",
        "  fg = seaborn.FacetGrid(data=X_totala, hue='Classification', hue_order=clas, aspect=1.61)\n",
        "  fg.map(pyplot.scatter).add_legend()\n"
      ],
      "execution_count": null,
      "outputs": []
    },
    {
      "cell_type": "markdown",
      "metadata": {
        "id": "x89b0QBN4v51"
      },
      "source": [
        "### t-SNE\n",
        "\n",
        " Here, we use t-sne to visualize the results of the MFA and PCA."
      ]
    },
    {
      "cell_type": "markdown",
      "metadata": {
        "id": "YeVBvvv30P0b"
      },
      "source": [
        "Notice that we decided to not consider the t-SNE technique as the output varies every time the algorithm is run.\n",
        "\n",
        "### Clustering\n",
        "\n",
        "In this subsection, we try to identify clusters to increase our understanding of the data."
      ]
    },
    {
      "cell_type": "code",
      "metadata": {
        "id": "b_jb7kru1hjU"
      },
      "source": [
        ""
      ],
      "execution_count": null,
      "outputs": []
    },
    {
      "cell_type": "markdown",
      "metadata": {
        "id": "vZuyq8zJ431z"
      },
      "source": [
        "### Conclusion\n",
        "\n",
        "From all these methods, we realize that we should use ..."
      ]
    },
    {
      "cell_type": "markdown",
      "metadata": {
        "id": "F56zjEXW3Job"
      },
      "source": [
        "## Supervised Learning\n",
        "\n",
        "### Loss function\n",
        "\n",
        "In the challenge, it is used a micro-averaged F1-score. This one calculates de F1-score shown below by counting globally the total number of true positives, false negatives and false positives.\n",
        "\n",
        "$$ F1 = 2 \\cdot \\frac{\\text{precision}\\cdot\\text{recall}}{\\text{precision} + \\text{recall}} $$\n",
        "\n",
        "### Methods\n",
        "\n",
        "Now, after treating our data and identifying the most important parameters, we proceed to apply a supervising learning technique.\n",
        "\n",
        "Before proceeding to the techniques, we need to first discuss how will we get the classification of each trader from all the points he/she appears.\n",
        "\n",
        "A first idea is to use the same proportions proposed in the baseline method. However, we can try to go further by finding the right proportion. In order to do that, we first save the predicted value for each line and then we use $n$ different proportions and we see which one fits better the data. This is done for each method and, in the end, we compare all our results. \n",
        "\n",
        "### Logistic regression"
      ]
    },
    {
      "cell_type": "code",
      "metadata": {
        "id": "jaxt1Em31PqG"
      },
      "source": [
        ""
      ],
      "execution_count": null,
      "outputs": []
    },
    {
      "cell_type": "markdown",
      "metadata": {
        "id": "Edaxcpcd15Zs"
      },
      "source": [
        "### Random Forest"
      ]
    },
    {
      "cell_type": "code",
      "metadata": {
        "id": "I3A0w5M015iX"
      },
      "source": [
        ""
      ],
      "execution_count": null,
      "outputs": []
    },
    {
      "cell_type": "markdown",
      "metadata": {
        "id": "gdPqYvd-15pT"
      },
      "source": [
        "### Gradient Boosting"
      ]
    },
    {
      "cell_type": "code",
      "metadata": {
        "id": "BlyWDiLf15xm"
      },
      "source": [
        ""
      ],
      "execution_count": null,
      "outputs": []
    },
    {
      "cell_type": "markdown",
      "metadata": {
        "id": "BI67cmoo1sqc"
      },
      "source": [
        "### Neural Network"
      ]
    },
    {
      "cell_type": "code",
      "metadata": {
        "id": "6e0gSWzu5hYM"
      },
      "source": [
        ""
      ],
      "execution_count": null,
      "outputs": []
    }
  ]
}